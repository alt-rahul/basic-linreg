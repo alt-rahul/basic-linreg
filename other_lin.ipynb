{
 "cells": [
  {
   "cell_type": "code",
   "execution_count": 1,
   "metadata": {},
   "outputs": [],
   "source": [
    "import numpy as np \n",
    "import pandas as pd"
   ]
  },
  {
   "cell_type": "code",
   "execution_count": 2,
   "metadata": {},
   "outputs": [
    {
     "data": {
      "text/html": [
       "<div>\n",
       "<style scoped>\n",
       "    .dataframe tbody tr th:only-of-type {\n",
       "        vertical-align: middle;\n",
       "    }\n",
       "\n",
       "    .dataframe tbody tr th {\n",
       "        vertical-align: top;\n",
       "    }\n",
       "\n",
       "    .dataframe thead th {\n",
       "        text-align: right;\n",
       "    }\n",
       "</style>\n",
       "<table border=\"1\" class=\"dataframe\">\n",
       "  <thead>\n",
       "    <tr style=\"text-align: right;\">\n",
       "      <th></th>\n",
       "      <th>Pregnancies</th>\n",
       "      <th>Glucose</th>\n",
       "      <th>BloodPressure</th>\n",
       "      <th>SkinThickness</th>\n",
       "      <th>Insulin</th>\n",
       "      <th>BMI</th>\n",
       "      <th>DiabetesPedigreeFunction</th>\n",
       "      <th>Age</th>\n",
       "      <th>Outcome</th>\n",
       "    </tr>\n",
       "  </thead>\n",
       "  <tbody>\n",
       "    <tr>\n",
       "      <th>0</th>\n",
       "      <td>6</td>\n",
       "      <td>148</td>\n",
       "      <td>72</td>\n",
       "      <td>35</td>\n",
       "      <td>0</td>\n",
       "      <td>33.6</td>\n",
       "      <td>0.627</td>\n",
       "      <td>50</td>\n",
       "      <td>1</td>\n",
       "    </tr>\n",
       "    <tr>\n",
       "      <th>1</th>\n",
       "      <td>1</td>\n",
       "      <td>85</td>\n",
       "      <td>66</td>\n",
       "      <td>29</td>\n",
       "      <td>0</td>\n",
       "      <td>26.6</td>\n",
       "      <td>0.351</td>\n",
       "      <td>31</td>\n",
       "      <td>0</td>\n",
       "    </tr>\n",
       "    <tr>\n",
       "      <th>2</th>\n",
       "      <td>8</td>\n",
       "      <td>183</td>\n",
       "      <td>64</td>\n",
       "      <td>0</td>\n",
       "      <td>0</td>\n",
       "      <td>23.3</td>\n",
       "      <td>0.672</td>\n",
       "      <td>32</td>\n",
       "      <td>1</td>\n",
       "    </tr>\n",
       "    <tr>\n",
       "      <th>3</th>\n",
       "      <td>1</td>\n",
       "      <td>89</td>\n",
       "      <td>66</td>\n",
       "      <td>23</td>\n",
       "      <td>94</td>\n",
       "      <td>28.1</td>\n",
       "      <td>0.167</td>\n",
       "      <td>21</td>\n",
       "      <td>0</td>\n",
       "    </tr>\n",
       "    <tr>\n",
       "      <th>4</th>\n",
       "      <td>0</td>\n",
       "      <td>137</td>\n",
       "      <td>40</td>\n",
       "      <td>35</td>\n",
       "      <td>168</td>\n",
       "      <td>43.1</td>\n",
       "      <td>2.288</td>\n",
       "      <td>33</td>\n",
       "      <td>1</td>\n",
       "    </tr>\n",
       "  </tbody>\n",
       "</table>\n",
       "</div>"
      ],
      "text/plain": [
       "   Pregnancies  Glucose  BloodPressure  ...  DiabetesPedigreeFunction  Age  Outcome\n",
       "0            6      148             72  ...                     0.627   50        1\n",
       "1            1       85             66  ...                     0.351   31        0\n",
       "2            8      183             64  ...                     0.672   32        1\n",
       "3            1       89             66  ...                     0.167   21        0\n",
       "4            0      137             40  ...                     2.288   33        1\n",
       "\n",
       "[5 rows x 9 columns]"
      ]
     },
     "execution_count": 2,
     "metadata": {},
     "output_type": "execute_result"
    }
   ],
   "source": [
    "diabetes_df = pd.read_csv(\"diabetes.csv\")\n",
    "diabetes_df.head()"
   ]
  },
  {
   "cell_type": "code",
   "execution_count": 3,
   "metadata": {},
   "outputs": [
    {
     "data": {
      "text/plain": [
       "((537, 8), (537,), (231, 8), (231,))"
      ]
     },
     "execution_count": 3,
     "metadata": {},
     "output_type": "execute_result"
    }
   ],
   "source": [
    "from sklearn.linear_model import Ridge, LinearRegression, Lasso, LogisticRegression\n",
    "from sklearn.model_selection import KFold, train_test_split, cross_val_score\n",
    "from sklearn.metrics import mean_squared_error, root_mean_squared_error\n",
    "\n",
    "X = diabetes_df.drop([\"Outcome\"], axis=1).values\n",
    "y = diabetes_df['Outcome'].values\n",
    "\n",
    "X_train, X_test, y_train, y_test = train_test_split(X, y, test_size=.3, random_state=69)\n",
    "\n",
    "X_train.shape, y_train.shape, X_test.shape, y_test.shape\n"
   ]
  },
  {
   "cell_type": "code",
   "execution_count": 4,
   "metadata": {},
   "outputs": [
    {
     "name": "stdout",
     "output_type": "stream",
     "text": [
      "0.3046721986545401\n",
      "mse: 0.16006834039331402\n",
      "rmse: 0.4000854163716968\n"
     ]
    }
   ],
   "source": [
    "reg = LinearRegression()\n",
    "reg.fit(X_train, y_train)\n",
    "y_pred = reg.predict(X_test)\n",
    "r_squard = reg.score(X_test, y_test)\n",
    "mse = mean_squared_error(y_test, y_pred)\n",
    "rmse = root_mean_squared_error(y_test, y_pred)\n",
    "print(r_squard)\n",
    "print(\"mse: \" + str(mse) + \"\\nrmse: \" + str(rmse))"
   ]
  },
  {
   "cell_type": "code",
   "execution_count": 5,
   "metadata": {},
   "outputs": [
    {
     "name": "stdout",
     "output_type": "stream",
     "text": [
      "[0.3046721717759914, 0.30464535716466046, 0.30440708054714505, 0.3023133696328062, 0.29359436413074225]\n"
     ]
    }
   ],
   "source": [
    "alphas = [0.0001, 0.1, 1, 10, 100]\n",
    "scores = []\n",
    "for alpha in alphas:\n",
    "    reg = Ridge(alpha = alpha)\n",
    "    reg.fit(X_train, y_train)\n",
    "    score = reg.score(X_test, y_test)\n",
    "    scores.append(score)\n",
    "print(scores)"
   ]
  },
  {
   "cell_type": "code",
   "execution_count": 9,
   "metadata": {},
   "outputs": [
    {
     "name": "stdout",
     "output_type": "stream",
     "text": [
      "[0.11771431 0.77549035 0.27816808 0.39675115 0.15157928 0.75182405\n",
      " 0.06319721 0.03329957 0.07555403 0.01853515 0.06286096 0.18563421\n",
      " 0.23715789 0.13831684 0.68321589 0.38219426 0.3272368  0.50085509\n",
      " 0.53855248 0.04806141 0.27682182 0.23213483 0.48703445 0.20503902\n",
      " 0.08347585 0.27924163 0.61549893 0.22036174 0.42998142 0.34011062\n",
      " 0.14213675 0.91940396 0.34447468 0.23211298 0.39989091 0.05685349\n",
      " 0.0913342  0.63456549 0.05084158 0.89869468 0.09598654 0.6005205\n",
      " 0.6131067  0.62803648 0.0332886  0.62200797 0.38328384 0.66485036\n",
      " 0.08818819 0.37503079 0.038759   0.04767695 0.84262725 0.57227022\n",
      " 0.67772214 0.27751685 0.72837951 0.11047887 0.05160258 0.77752727\n",
      " 0.44623818 0.63240888 0.45957447 0.21546555 0.29661266 0.17918382\n",
      " 0.86273983 0.21263826 0.20231543 0.03819874 0.15885349 0.19857904\n",
      " 0.17885591 0.21881069 0.68290382 0.40658428 0.81167237 0.87168136\n",
      " 0.24600403 0.45780077 0.29420412 0.7909454  0.8057884  0.0894401\n",
      " 0.76201036 0.08543618 0.67030044 0.18343218 0.58349679 0.05004054\n",
      " 0.18052515 0.44332492 0.11894965 0.49043945 0.22794483 0.14908365\n",
      " 0.35310401 0.4662363  0.24078579 0.13978915 0.24092685 0.07116368\n",
      " 0.56012997 0.05328634 0.34102349 0.25256415 0.86741837 0.25088118\n",
      " 0.32477139 0.79837329 0.14342902 0.10234811 0.08794688 0.67813959\n",
      " 0.44637536 0.19010581 0.97245943 0.04932463 0.64404497 0.18668936\n",
      " 0.33943711 0.65905154 0.1906024  0.48139023 0.13730028 0.33882941\n",
      " 0.18695053 0.10791053 0.93711384 0.24393582 0.35458732 0.0876213\n",
      " 0.40584985 0.80814985 0.77894581 0.35167449 0.06498321 0.16061386\n",
      " 0.78673225 0.3566855  0.30550878 0.06610292 0.32389623 0.37269505\n",
      " 0.27676994 0.47577315 0.62554881 0.60081218 0.05589283 0.08740266\n",
      " 0.00590839 0.19223644 0.7228868  0.2086138  0.22151456 0.22760049\n",
      " 0.11663681 0.03728991 0.85675908 0.45707519 0.09094161 0.68662616\n",
      " 0.07344958 0.71037442 0.37819377 0.538691   0.65848576 0.10735835\n",
      " 0.43322456 0.2373615  0.09431083 0.10681353 0.32584626 0.02899318\n",
      " 0.5807098  0.50645955 0.2339885  0.58818752 0.55286743 0.13649148\n",
      " 0.31719619 0.63552844 0.76982507 0.12962717 0.11905554 0.34668065\n",
      " 0.48778581 0.20269495 0.5778742  0.57507306 0.37759925 0.4447088\n",
      " 0.06177431 0.21582005 0.18994194 0.81690321 0.67693296 0.19187788\n",
      " 0.23732402 0.25928114 0.4614921  0.40509879 0.52733518 0.13722291\n",
      " 0.07381403 0.28107638 0.5518817  0.50771394 0.13693793 0.6648699\n",
      " 0.31755983 0.34465056 0.33787917 0.09842555 0.31053815 0.0980515\n",
      " 0.19635502 0.2865508  0.46356491 0.07445133 0.10879696 0.27901395\n",
      " 0.54245938 0.28930143 0.25530799 0.01326454 0.18195702 0.08945372\n",
      " 0.74088491 0.04222799 0.36315243]\n"
     ]
    }
   ],
   "source": [
    "reg = LogisticRegression()\n",
    "\n",
    "reg.fit(X_train,y_train)\n",
    "\n",
    "y_pred = reg.predict_proba(X_test)[:, 1]\n",
    "print(y_pred)"
   ]
  },
  {
   "cell_type": "code",
   "execution_count": null,
   "metadata": {},
   "outputs": [],
   "source": []
  }
 ],
 "metadata": {
  "kernelspec": {
   "display_name": "Python 3",
   "language": "python",
   "name": "python3"
  },
  "language_info": {
   "codemirror_mode": {
    "name": "ipython",
    "version": 3
   },
   "file_extension": ".py",
   "mimetype": "text/x-python",
   "name": "python",
   "nbconvert_exporter": "python",
   "pygments_lexer": "ipython3",
   "version": "3.12.8"
  }
 },
 "nbformat": 4,
 "nbformat_minor": 2
}
