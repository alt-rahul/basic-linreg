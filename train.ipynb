{
 "cells": [
  {
   "cell_type": "code",
   "execution_count": 34,
   "metadata": {},
   "outputs": [
    {
     "name": "stdout",
     "output_type": "stream",
     "text": [
      "Defaulting to user installation because normal site-packages is not writeable\n",
      "Requirement already satisfied: fredapi in c:\\users\\rahul\\appdata\\local\\packages\\pythonsoftwarefoundation.python.3.12_qbz5n2kfra8p0\\localcache\\local-packages\\python312\\site-packages (0.5.2)\n",
      "Requirement already satisfied: pandas in c:\\users\\rahul\\appdata\\local\\packages\\pythonsoftwarefoundation.python.3.12_qbz5n2kfra8p0\\localcache\\local-packages\\python312\\site-packages (from fredapi) (2.2.3)\n",
      "Requirement already satisfied: numpy>=1.26.0 in c:\\users\\rahul\\appdata\\local\\packages\\pythonsoftwarefoundation.python.3.12_qbz5n2kfra8p0\\localcache\\local-packages\\python312\\site-packages (from pandas->fredapi) (2.0.2)\n",
      "Requirement already satisfied: python-dateutil>=2.8.2 in c:\\users\\rahul\\appdata\\local\\packages\\pythonsoftwarefoundation.python.3.12_qbz5n2kfra8p0\\localcache\\local-packages\\python312\\site-packages (from pandas->fredapi) (2.9.0.post0)\n",
      "Requirement already satisfied: pytz>=2020.1 in c:\\users\\rahul\\appdata\\local\\packages\\pythonsoftwarefoundation.python.3.12_qbz5n2kfra8p0\\localcache\\local-packages\\python312\\site-packages (from pandas->fredapi) (2024.2)\n",
      "Requirement already satisfied: tzdata>=2022.7 in c:\\users\\rahul\\appdata\\local\\packages\\pythonsoftwarefoundation.python.3.12_qbz5n2kfra8p0\\localcache\\local-packages\\python312\\site-packages (from pandas->fredapi) (2024.2)\n",
      "Requirement already satisfied: six>=1.5 in c:\\users\\rahul\\appdata\\local\\packages\\pythonsoftwarefoundation.python.3.12_qbz5n2kfra8p0\\localcache\\local-packages\\python312\\site-packages (from python-dateutil>=2.8.2->pandas->fredapi) (1.16.0)\n"
     ]
    },
    {
     "name": "stderr",
     "output_type": "stream",
     "text": [
      "\n",
      "[notice] A new release of pip is available: 24.2 -> 24.3.1\n",
      "[notice] To update, run: C:\\Users\\rahul\\AppData\\Local\\Microsoft\\WindowsApps\\PythonSoftwareFoundation.Python.3.12_qbz5n2kfra8p0\\python.exe -m pip install --upgrade pip\n"
     ]
    }
   ],
   "source": [
    "!pip install fredapi"
   ]
  },
  {
   "cell_type": "code",
   "execution_count": 35,
   "metadata": {},
   "outputs": [
    {
     "name": "stdout",
     "output_type": "stream",
     "text": [
      "Defaulting to user installation because normal site-packages is not writeable\n",
      "Requirement already satisfied: python-dotenv in c:\\users\\rahul\\appdata\\local\\packages\\pythonsoftwarefoundation.python.3.12_qbz5n2kfra8p0\\localcache\\local-packages\\python312\\site-packages (1.0.1)\n"
     ]
    },
    {
     "name": "stderr",
     "output_type": "stream",
     "text": [
      "\n",
      "[notice] A new release of pip is available: 24.2 -> 24.3.1\n",
      "[notice] To update, run: C:\\Users\\rahul\\AppData\\Local\\Microsoft\\WindowsApps\\PythonSoftwareFoundation.Python.3.12_qbz5n2kfra8p0\\python.exe -m pip install --upgrade pip\n"
     ]
    }
   ],
   "source": [
    "!pip install python-dotenv"
   ]
  },
  {
   "cell_type": "code",
   "execution_count": 36,
   "metadata": {},
   "outputs": [
    {
     "name": "stdout",
     "output_type": "stream",
     "text": [
      "NVIDIA-SMI has failed because you do not have suffient permissions. Please try running as an administrator.\n"
     ]
    }
   ],
   "source": [
    "!nvidia-smi"
   ]
  },
  {
   "cell_type": "code",
   "execution_count": 37,
   "metadata": {},
   "outputs": [],
   "source": [
    "import pandas as pd\n",
    "import torch \n",
    "import matplotlib.pyplot as plt\n",
    "from fredapi import Fred\n",
    "import numpy as np"
   ]
  },
  {
   "cell_type": "code",
   "execution_count": 38,
   "metadata": {},
   "outputs": [],
   "source": [
    "from dotenv import load_dotenv\n",
    "import os\n",
    "\n",
    "load_dotenv()\n",
    "api_key = os.environ[\"API_KEY\"]"
   ]
  },
  {
   "cell_type": "code",
   "execution_count": 39,
   "metadata": {},
   "outputs": [
    {
     "data": {
      "text/plain": [
       "2033-10-01    4.236570\n",
       "2034-01-01    4.230920\n",
       "2034-04-01    4.225190\n",
       "2034-07-01    4.219381\n",
       "2034-10-01    4.213503\n",
       "dtype: float64"
      ]
     },
     "execution_count": 39,
     "metadata": {},
     "output_type": "execute_result"
    }
   ],
   "source": [
    "fred = Fred(api_key=api_key)\n",
    "data = fred.get_series(\"NROU\")\n",
    "data.tail()"
   ]
  },
  {
   "cell_type": "code",
   "execution_count": 40,
   "metadata": {},
   "outputs": [
    {
     "data": {
      "text/html": [
       "<div>\n",
       "<style scoped>\n",
       "    .dataframe tbody tr th:only-of-type {\n",
       "        vertical-align: middle;\n",
       "    }\n",
       "\n",
       "    .dataframe tbody tr th {\n",
       "        vertical-align: top;\n",
       "    }\n",
       "\n",
       "    .dataframe thead th {\n",
       "        text-align: right;\n",
       "    }\n",
       "</style>\n",
       "<table border=\"1\" class=\"dataframe\">\n",
       "  <thead>\n",
       "    <tr style=\"text-align: right;\">\n",
       "      <th></th>\n",
       "      <th>index</th>\n",
       "      <th>Rate</th>\n",
       "    </tr>\n",
       "  </thead>\n",
       "  <tbody>\n",
       "    <tr>\n",
       "      <th>0</th>\n",
       "      <td>1949-01-01</td>\n",
       "      <td>5.255053</td>\n",
       "    </tr>\n",
       "    <tr>\n",
       "      <th>1</th>\n",
       "      <td>1949-04-01</td>\n",
       "      <td>5.261516</td>\n",
       "    </tr>\n",
       "    <tr>\n",
       "      <th>2</th>\n",
       "      <td>1949-07-01</td>\n",
       "      <td>5.268013</td>\n",
       "    </tr>\n",
       "    <tr>\n",
       "      <th>3</th>\n",
       "      <td>1949-10-01</td>\n",
       "      <td>5.274564</td>\n",
       "    </tr>\n",
       "    <tr>\n",
       "      <th>4</th>\n",
       "      <td>1950-01-01</td>\n",
       "      <td>5.281182</td>\n",
       "    </tr>\n",
       "  </tbody>\n",
       "</table>\n",
       "</div>"
      ],
      "text/plain": [
       "       index      Rate\n",
       "0 1949-01-01  5.255053\n",
       "1 1949-04-01  5.261516\n",
       "2 1949-07-01  5.268013\n",
       "3 1949-10-01  5.274564\n",
       "4 1950-01-01  5.281182"
      ]
     },
     "execution_count": 40,
     "metadata": {},
     "output_type": "execute_result"
    }
   ],
   "source": [
    "data = pd.DataFrame(data,columns=['Rate'])\n",
    "data.reset_index(inplace=True)\n",
    "data.head()"
   ]
  },
  {
   "cell_type": "code",
   "execution_count": 41,
   "metadata": {},
   "outputs": [
    {
     "data": {
      "text/html": [
       "<div>\n",
       "<style scoped>\n",
       "    .dataframe tbody tr th:only-of-type {\n",
       "        vertical-align: middle;\n",
       "    }\n",
       "\n",
       "    .dataframe tbody tr th {\n",
       "        vertical-align: top;\n",
       "    }\n",
       "\n",
       "    .dataframe thead th {\n",
       "        text-align: right;\n",
       "    }\n",
       "</style>\n",
       "<table border=\"1\" class=\"dataframe\">\n",
       "  <thead>\n",
       "    <tr style=\"text-align: right;\">\n",
       "      <th></th>\n",
       "      <th>Date</th>\n",
       "      <th>Rate</th>\n",
       "    </tr>\n",
       "  </thead>\n",
       "  <tbody>\n",
       "    <tr>\n",
       "      <th>0</th>\n",
       "      <td>1949-01-01</td>\n",
       "      <td>5.255053</td>\n",
       "    </tr>\n",
       "    <tr>\n",
       "      <th>1</th>\n",
       "      <td>1949-04-01</td>\n",
       "      <td>5.261516</td>\n",
       "    </tr>\n",
       "    <tr>\n",
       "      <th>2</th>\n",
       "      <td>1949-07-01</td>\n",
       "      <td>5.268013</td>\n",
       "    </tr>\n",
       "    <tr>\n",
       "      <th>3</th>\n",
       "      <td>1949-10-01</td>\n",
       "      <td>5.274564</td>\n",
       "    </tr>\n",
       "    <tr>\n",
       "      <th>4</th>\n",
       "      <td>1950-01-01</td>\n",
       "      <td>5.281182</td>\n",
       "    </tr>\n",
       "  </tbody>\n",
       "</table>\n",
       "</div>"
      ],
      "text/plain": [
       "        Date      Rate\n",
       "0 1949-01-01  5.255053\n",
       "1 1949-04-01  5.261516\n",
       "2 1949-07-01  5.268013\n",
       "3 1949-10-01  5.274564\n",
       "4 1950-01-01  5.281182"
      ]
     },
     "execution_count": 41,
     "metadata": {},
     "output_type": "execute_result"
    }
   ],
   "source": [
    "data.rename(columns={\"index\": \"Date\"}, inplace=True)\n",
    "data.head()"
   ]
  },
  {
   "cell_type": "code",
   "execution_count": 52,
   "metadata": {},
   "outputs": [],
   "source": [
    "rates = data[\"Rate\"].to_numpy()\n",
    "rates_tensor = torch.from_numpy(rates)"
   ]
  },
  {
   "cell_type": "code",
   "execution_count": 43,
   "metadata": {},
   "outputs": [
    {
     "data": {
      "text/plain": [
       "'cpu'"
      ]
     },
     "execution_count": 43,
     "metadata": {},
     "output_type": "execute_result"
    }
   ],
   "source": [
    "device = \"cuda\" if torch.cuda.is_available() else \"cpu\"\n",
    "device"
   ]
  },
  {
   "cell_type": "code",
   "execution_count": 58,
   "metadata": {},
   "outputs": [
    {
     "name": "stdout",
     "output_type": "stream",
     "text": [
      "tensor([5.2551, 5.2615, 5.2680, 5.2746, 5.2812, 5.2879, 5.2946, 5.3014, 5.3081,\n",
      "        5.3148, 5.3213, 5.3277, 5.3338, 5.3396, 5.3450, 5.3500, 5.3547, 5.3590,\n",
      "        5.3630, 5.3666, 5.3699, 5.3730, 5.3759, 5.3786, 5.3812, 5.3837, 5.3862,\n",
      "        5.3886, 5.3910, 5.3934, 5.3959, 5.3985, 5.4012, 5.4041, 5.4072, 5.4106,\n",
      "        5.4142, 5.4183, 5.4227, 5.4274, 5.4326, 5.4381, 5.4439, 5.4501, 5.4565,\n",
      "        5.4631, 5.4698, 5.4768, 5.4839, 5.4912, 5.4987, 5.5065, 5.5146, 5.5230,\n",
      "        5.5320, 5.5413, 5.5512, 5.5616, 5.5724, 5.5837, 5.5955, 5.6077, 5.6202,\n",
      "        5.6330, 5.6460, 5.6590, 5.6721, 5.6851, 5.6979, 5.7105, 5.7229, 5.7349,\n",
      "        5.7467, 5.7583, 5.7697, 5.7810, 5.7923, 5.8037, 5.8152, 5.8269, 5.8389,\n",
      "        5.8512, 5.8639, 5.8769, 5.8903, 5.9041, 5.9183, 5.9329, 5.9478, 5.9630,\n",
      "        5.9785, 5.9942, 6.0099, 6.0257, 6.0413, 6.0567, 6.0717, 6.0863, 6.1004,\n",
      "        6.1138, 6.1266, 6.1387, 6.1501, 6.1608, 6.1708, 6.1802, 6.1889, 6.1970,\n",
      "        6.2045, 6.2114, 6.2176, 6.2231, 6.2279, 6.2320, 6.2353, 6.2378, 6.2393,\n",
      "        6.2399, 6.2396, 6.2382, 6.2359, 6.2326, 6.2284, 6.2233, 6.2174, 6.2107,\n",
      "        6.2034, 6.1955, 6.1871, 6.1784, 6.1693, 6.1600, 6.1506, 6.1412, 6.1317,\n",
      "        6.1223, 6.1129, 6.1036, 6.0944, 6.0853, 6.0761, 6.0670, 6.0578, 6.0484,\n",
      "        6.0389, 6.0291, 6.0191, 6.0086, 5.9976, 5.9861, 5.9740, 5.9611, 5.9475,\n",
      "        5.9331, 5.9179, 5.9019, 5.8850, 5.8674, 5.8492, 5.8305, 5.8113, 5.7918,\n",
      "        5.7721, 5.7524, 5.7328, 5.7132, 5.6939, 5.6749, 5.6561, 5.6378, 5.6200,\n",
      "        5.6025, 5.5856, 5.5691, 5.5531, 5.5375, 5.5225, 5.5079, 5.4939, 5.4803,\n",
      "        5.4673, 5.4548, 5.4428, 5.4313, 5.4202, 5.4095, 5.3991, 5.3891, 5.3793,\n",
      "        5.3697, 5.3603, 5.3510, 5.3417, 5.3324, 5.3231, 5.3137, 5.3042, 5.2947,\n",
      "        5.2850, 5.2752, 5.2654, 5.2554, 5.2453, 5.2352, 5.2249, 5.2146, 5.2042,\n",
      "        5.1937, 5.1832, 5.1726, 5.1620, 5.1513, 5.1406, 5.1299, 5.1192, 5.1086,\n",
      "        5.0980, 5.0875, 5.0772, 5.0671, 5.0571, 5.0474, 5.0380, 5.0289, 5.0201,\n",
      "        5.0116, 5.0037, 4.9967, 4.9870, 4.9767, 4.9660, 4.9550, 4.9440, 4.9333,\n",
      "        4.9229, 4.9132, 4.9042, 4.8960, 4.8885, 4.8816, 4.8753, 4.8692, 4.8632,\n",
      "        4.8571, 4.8507, 4.8439, 4.8366, 4.8287, 4.8202, 4.8112, 4.8016, 4.7916,\n",
      "        4.7815, 4.7714, 4.7615, 4.7519, 4.7428, 4.7342, 4.7260, 4.7182, 4.7108,\n",
      "        4.7038, 4.6970, 4.6904, 4.6838, 4.6773, 4.6708, 4.6641, 4.6573, 4.6503,\n",
      "        4.6431, 4.6357, 4.6282, 4.6206, 4.6128, 4.6049, 4.5968, 4.5882, 4.5792,\n",
      "        4.5695, 4.5591, 4.5481, 4.5365, 4.5247, 4.5129, 4.5014, 4.4907, 4.4808,\n",
      "        4.4719, 4.4641, 4.4571, 4.4509, 4.4455, 4.4406, 4.4363, 4.4324, 4.4289,\n",
      "        4.4256, 4.4226, 4.4198, 4.4170, 4.4142, 4.4114, 4.4086, 4.4058, 4.4029,\n",
      "        4.3999, 4.3968, 4.3936, 4.3902, 4.3866, 4.3828, 4.3788, 4.3745, 4.3700,\n",
      "        4.3654, 4.3605, 4.3555, 4.3503, 4.3450, 4.3397, 4.3342, 4.3288, 4.3232,\n",
      "        4.3177, 4.3122, 4.3066, 4.3011, 4.2957, 4.2903, 4.2849, 4.2796, 4.2744,\n",
      "        4.2691, 4.2638, 4.2584, 4.2531, 4.2476, 4.2421, 4.2366, 4.2309, 4.2252,\n",
      "        4.2194, 4.2135], dtype=torch.float64)\n"
     ]
    }
   ],
   "source": [
    "cut_batch = int(len(rates) * .6)\n",
    "end_batch = int(len(rates) * .2)\n",
    "\n",
    "X_train = rates_tensor.to(device)\n",
    "X_eval = rates_tensor[cut_batch:(cut_batch+ end_batch)].to(device)\n",
    "X_test = rates_tensor[(cut_batch+ end_batch):].to(device)\n",
    "\n",
    "# len(X_train), len(X_eval), len(X_test)\n",
    "print(X_train)"
   ]
  },
  {
   "cell_type": "code",
   "execution_count": null,
   "metadata": {},
   "outputs": [],
   "source": [
    "import torch.nn as nn\n",
    "class LinearRegressionModel(nn.Module):\n",
    "    def __init__(self):\n",
    "        super().__init__()\n",
    "        self.linear_layer = nn.Linear(in_features=1, out_features=1)\n",
    "\n",
    "    def forward(self,x: torch.Tensor) -> torch.Tensor:\n",
    "        return self.linear_layer(x)"
   ]
  },
  {
   "cell_type": "code",
   "execution_count": null,
   "metadata": {},
   "outputs": [],
   "source": [
    "model0 = LinearRegressionModel()\n",
    "\n",
    "loss_fn = nn.L1Loss()\n",
    "\n",
    "optimizer = torch.optim.SGD(model0.parameters(), lr=.01)"
   ]
  },
  {
   "cell_type": "code",
   "execution_count": null,
   "metadata": {},
   "outputs": [],
   "source": [
    "def noLossFr():\n",
    "    model0.train()\n",
    "    x_pred = model0.forward(X_train)\n",
    "    loss = loss_fn()\n"
   ]
  }
 ],
 "metadata": {
  "kernelspec": {
   "display_name": "Python 3",
   "language": "python",
   "name": "python3"
  },
  "language_info": {
   "codemirror_mode": {
    "name": "ipython",
    "version": 3
   },
   "file_extension": ".py",
   "mimetype": "text/x-python",
   "name": "python",
   "nbconvert_exporter": "python",
   "pygments_lexer": "ipython3",
   "version": "3.12.7"
  }
 },
 "nbformat": 4,
 "nbformat_minor": 2
}
