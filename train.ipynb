{
 "cells": [
  {
   "cell_type": "code",
   "execution_count": 1,
   "metadata": {},
   "outputs": [
    {
     "name": "stdout",
     "output_type": "stream",
     "text": [
      "Defaulting to user installation because normal site-packages is not writeable\n",
      "Requirement already satisfied: fredapi in c:\\users\\rahul\\appdata\\local\\packages\\pythonsoftwarefoundation.python.3.12_qbz5n2kfra8p0\\localcache\\local-packages\\python312\\site-packages (0.5.2)\n",
      "Requirement already satisfied: pandas in c:\\users\\rahul\\appdata\\local\\packages\\pythonsoftwarefoundation.python.3.12_qbz5n2kfra8p0\\localcache\\local-packages\\python312\\site-packages (from fredapi) (2.2.3)\n",
      "Requirement already satisfied: numpy>=1.26.0 in c:\\users\\rahul\\appdata\\local\\packages\\pythonsoftwarefoundation.python.3.12_qbz5n2kfra8p0\\localcache\\local-packages\\python312\\site-packages (from pandas->fredapi) (2.0.2)\n",
      "Requirement already satisfied: python-dateutil>=2.8.2 in c:\\users\\rahul\\appdata\\local\\packages\\pythonsoftwarefoundation.python.3.12_qbz5n2kfra8p0\\localcache\\local-packages\\python312\\site-packages (from pandas->fredapi) (2.9.0.post0)\n",
      "Requirement already satisfied: pytz>=2020.1 in c:\\users\\rahul\\appdata\\local\\packages\\pythonsoftwarefoundation.python.3.12_qbz5n2kfra8p0\\localcache\\local-packages\\python312\\site-packages (from pandas->fredapi) (2024.2)\n",
      "Requirement already satisfied: tzdata>=2022.7 in c:\\users\\rahul\\appdata\\local\\packages\\pythonsoftwarefoundation.python.3.12_qbz5n2kfra8p0\\localcache\\local-packages\\python312\\site-packages (from pandas->fredapi) (2024.2)\n",
      "Requirement already satisfied: six>=1.5 in c:\\users\\rahul\\appdata\\local\\packages\\pythonsoftwarefoundation.python.3.12_qbz5n2kfra8p0\\localcache\\local-packages\\python312\\site-packages (from python-dateutil>=2.8.2->pandas->fredapi) (1.16.0)\n"
     ]
    },
    {
     "name": "stderr",
     "output_type": "stream",
     "text": [
      "\n",
      "[notice] A new release of pip is available: 24.2 -> 24.3.1\n",
      "[notice] To update, run: C:\\Users\\rahul\\AppData\\Local\\Microsoft\\WindowsApps\\PythonSoftwareFoundation.Python.3.12_qbz5n2kfra8p0\\python.exe -m pip install --upgrade pip\n"
     ]
    }
   ],
   "source": [
    "!pip install fredapi"
   ]
  },
  {
   "cell_type": "code",
   "execution_count": 2,
   "metadata": {},
   "outputs": [
    {
     "name": "stdout",
     "output_type": "stream",
     "text": [
      "Defaulting to user installation because normal site-packages is not writeable\n",
      "Collecting python-dotenv\n",
      "  Downloading python_dotenv-1.0.1-py3-none-any.whl.metadata (23 kB)\n",
      "Downloading python_dotenv-1.0.1-py3-none-any.whl (19 kB)\n",
      "Installing collected packages: python-dotenv\n",
      "Successfully installed python-dotenv-1.0.1\n"
     ]
    },
    {
     "name": "stderr",
     "output_type": "stream",
     "text": [
      "\n",
      "[notice] A new release of pip is available: 24.2 -> 24.3.1\n",
      "[notice] To update, run: C:\\Users\\rahul\\AppData\\Local\\Microsoft\\WindowsApps\\PythonSoftwareFoundation.Python.3.12_qbz5n2kfra8p0\\python.exe -m pip install --upgrade pip\n"
     ]
    }
   ],
   "source": [
    "!pip install python-dotenv"
   ]
  },
  {
   "cell_type": "code",
   "execution_count": 32,
   "metadata": {},
   "outputs": [
    {
     "name": "stdout",
     "output_type": "stream",
     "text": [
      "Thu Nov 14 16:59:36 2024       \n",
      "+-----------------------------------------------------------------------------------------+\n",
      "| NVIDIA-SMI 560.94                 Driver Version: 560.94         CUDA Version: 12.6     |\n",
      "|-----------------------------------------+------------------------+----------------------+\n",
      "| GPU  Name                  Driver-Model | Bus-Id          Disp.A | Volatile Uncorr. ECC |\n",
      "| Fan  Temp   Perf          Pwr:Usage/Cap |           Memory-Usage | GPU-Util  Compute M. |\n",
      "|                                         |                        |               MIG M. |\n",
      "|=========================================+========================+======================|\n",
      "|   0  NVIDIA GeForce RTX 4060 ...  WDDM  |   00000000:01:00.0 Off |                  N/A |\n",
      "| N/A   43C    P3             12W /   55W |       0MiB /   8188MiB |      0%      Default |\n",
      "|                                         |                        |                  N/A |\n",
      "+-----------------------------------------+------------------------+----------------------+\n",
      "                                                                                         \n",
      "+-----------------------------------------------------------------------------------------+\n",
      "| Processes:                                                                              |\n",
      "|  GPU   GI   CI        PID   Type   Process name                              GPU Memory |\n",
      "|        ID   ID                                                               Usage      |\n",
      "|=========================================================================================|\n",
      "|  No running processes found                                                             |\n",
      "+-----------------------------------------------------------------------------------------+\n"
     ]
    }
   ],
   "source": [
    "!nvidia-smi"
   ]
  },
  {
   "cell_type": "code",
   "execution_count": 19,
   "metadata": {},
   "outputs": [],
   "source": [
    "import pandas as pd\n",
    "import torch \n",
    "import matplotlib.pyplot as plt\n",
    "from fredapi import Fred\n",
    "import numpy as np"
   ]
  },
  {
   "cell_type": "code",
   "execution_count": 5,
   "metadata": {},
   "outputs": [],
   "source": [
    "from dotenv import load_dotenv\n",
    "import os\n",
    "\n",
    "load_dotenv()\n",
    "api_key = os.environ[\"API_KEY\"]"
   ]
  },
  {
   "cell_type": "code",
   "execution_count": 6,
   "metadata": {},
   "outputs": [
    {
     "data": {
      "text/plain": [
       "2033-10-01    4.236570\n",
       "2034-01-01    4.230920\n",
       "2034-04-01    4.225190\n",
       "2034-07-01    4.219381\n",
       "2034-10-01    4.213503\n",
       "dtype: float64"
      ]
     },
     "execution_count": 6,
     "metadata": {},
     "output_type": "execute_result"
    }
   ],
   "source": [
    "fred = Fred(api_key=api_key)\n",
    "data = fred.get_series(\"NROU\")\n",
    "data.tail()"
   ]
  },
  {
   "cell_type": "code",
   "execution_count": 7,
   "metadata": {},
   "outputs": [
    {
     "data": {
      "text/html": [
       "<div>\n",
       "<style scoped>\n",
       "    .dataframe tbody tr th:only-of-type {\n",
       "        vertical-align: middle;\n",
       "    }\n",
       "\n",
       "    .dataframe tbody tr th {\n",
       "        vertical-align: top;\n",
       "    }\n",
       "\n",
       "    .dataframe thead th {\n",
       "        text-align: right;\n",
       "    }\n",
       "</style>\n",
       "<table border=\"1\" class=\"dataframe\">\n",
       "  <thead>\n",
       "    <tr style=\"text-align: right;\">\n",
       "      <th></th>\n",
       "      <th>index</th>\n",
       "      <th>Rate</th>\n",
       "    </tr>\n",
       "  </thead>\n",
       "  <tbody>\n",
       "    <tr>\n",
       "      <th>0</th>\n",
       "      <td>1949-01-01</td>\n",
       "      <td>5.255053</td>\n",
       "    </tr>\n",
       "    <tr>\n",
       "      <th>1</th>\n",
       "      <td>1949-04-01</td>\n",
       "      <td>5.261516</td>\n",
       "    </tr>\n",
       "    <tr>\n",
       "      <th>2</th>\n",
       "      <td>1949-07-01</td>\n",
       "      <td>5.268013</td>\n",
       "    </tr>\n",
       "    <tr>\n",
       "      <th>3</th>\n",
       "      <td>1949-10-01</td>\n",
       "      <td>5.274564</td>\n",
       "    </tr>\n",
       "    <tr>\n",
       "      <th>4</th>\n",
       "      <td>1950-01-01</td>\n",
       "      <td>5.281182</td>\n",
       "    </tr>\n",
       "  </tbody>\n",
       "</table>\n",
       "</div>"
      ],
      "text/plain": [
       "       index      Rate\n",
       "0 1949-01-01  5.255053\n",
       "1 1949-04-01  5.261516\n",
       "2 1949-07-01  5.268013\n",
       "3 1949-10-01  5.274564\n",
       "4 1950-01-01  5.281182"
      ]
     },
     "execution_count": 7,
     "metadata": {},
     "output_type": "execute_result"
    }
   ],
   "source": [
    "data = pd.DataFrame(data,columns=['Rate'])\n",
    "data.reset_index(inplace=True)\n",
    "data.head()"
   ]
  },
  {
   "cell_type": "code",
   "execution_count": 8,
   "metadata": {},
   "outputs": [
    {
     "data": {
      "text/html": [
       "<div>\n",
       "<style scoped>\n",
       "    .dataframe tbody tr th:only-of-type {\n",
       "        vertical-align: middle;\n",
       "    }\n",
       "\n",
       "    .dataframe tbody tr th {\n",
       "        vertical-align: top;\n",
       "    }\n",
       "\n",
       "    .dataframe thead th {\n",
       "        text-align: right;\n",
       "    }\n",
       "</style>\n",
       "<table border=\"1\" class=\"dataframe\">\n",
       "  <thead>\n",
       "    <tr style=\"text-align: right;\">\n",
       "      <th></th>\n",
       "      <th>Date</th>\n",
       "      <th>Rate</th>\n",
       "    </tr>\n",
       "  </thead>\n",
       "  <tbody>\n",
       "    <tr>\n",
       "      <th>0</th>\n",
       "      <td>1949-01-01</td>\n",
       "      <td>5.255053</td>\n",
       "    </tr>\n",
       "    <tr>\n",
       "      <th>1</th>\n",
       "      <td>1949-04-01</td>\n",
       "      <td>5.261516</td>\n",
       "    </tr>\n",
       "    <tr>\n",
       "      <th>2</th>\n",
       "      <td>1949-07-01</td>\n",
       "      <td>5.268013</td>\n",
       "    </tr>\n",
       "    <tr>\n",
       "      <th>3</th>\n",
       "      <td>1949-10-01</td>\n",
       "      <td>5.274564</td>\n",
       "    </tr>\n",
       "    <tr>\n",
       "      <th>4</th>\n",
       "      <td>1950-01-01</td>\n",
       "      <td>5.281182</td>\n",
       "    </tr>\n",
       "  </tbody>\n",
       "</table>\n",
       "</div>"
      ],
      "text/plain": [
       "        Date      Rate\n",
       "0 1949-01-01  5.255053\n",
       "1 1949-04-01  5.261516\n",
       "2 1949-07-01  5.268013\n",
       "3 1949-10-01  5.274564\n",
       "4 1950-01-01  5.281182"
      ]
     },
     "execution_count": 8,
     "metadata": {},
     "output_type": "execute_result"
    }
   ],
   "source": [
    "data.rename(columns={\"index\": \"Date\"}, inplace=True)\n",
    "data.head()"
   ]
  },
  {
   "cell_type": "code",
   "execution_count": 26,
   "metadata": {},
   "outputs": [
    {
     "data": {
      "text/plain": [
       "array([5.25505257, 5.26151562, 5.268013  , 5.274564  , 5.281182  ,\n",
       "       5.287866  , 5.294604  , 5.301367  , 5.308113  , 5.314789  ,\n",
       "       5.32133341, 5.3276825 , 5.333774  , 5.339555  , 5.34498549,\n",
       "       5.35004044, 5.354713  , 5.35901165, 5.362958  , 5.36658239,\n",
       "       5.369922  , 5.37301445, 5.375902  , 5.378624  , 5.38122   ,\n",
       "       5.383725  , 5.386171  , 5.388586  , 5.39099646, 5.39343   ,\n",
       "       5.395917  , 5.398493  , 5.40119839, 5.40408039, 5.4071846 ,\n",
       "       5.410558  , 5.41424036, 5.418266  , 5.42265844, 5.427429  ,\n",
       "       5.43257666, 5.43808556, 5.443927  , 5.450064  , 5.45645237,\n",
       "       5.463051  , 5.46982956, 5.47677   , 5.483875  , 5.491165  ,\n",
       "       5.49867535, 5.50645542, 5.514559  , 5.523042  , 5.53195047,\n",
       "       5.541324  , 5.551188  , 5.561552  , 5.572411  , 5.58374739,\n",
       "       5.59552765, 5.607706  , 5.62022257, 5.633007  , 5.645977  ,\n",
       "       5.659044  , 5.672116  , 5.685105  , 5.69793   , 5.710529  ,\n",
       "       5.722861  , 5.734915  , 5.746704  , 5.75827   , 5.769672  ,\n",
       "       5.780984  , 5.792286  , 5.80365849, 5.81517553, 5.826905  ,\n",
       "       5.838901  , 5.85120964, 5.863864  , 5.876888  , 5.89029837,\n",
       "       5.9041    , 5.918292  , 5.932861  , 5.947782  , 5.963016  ,\n",
       "       5.97850561, 5.994177  , 6.00994   , 6.02569056, 6.041317  ,\n",
       "       6.056706  , 6.0717454 , 6.086335  , 6.10038662, 6.11383057,\n",
       "       6.12661648, 6.138715  , 6.15011454, 6.16081953, 6.170844  ,\n",
       "       6.180209  , 6.188934  , 6.19703245, 6.204509  , 6.211358  ,\n",
       "       6.217563  , 6.223099  , 6.227931  , 6.23201656, 6.235309  ,\n",
       "       6.237757  , 6.239311  , 6.239927  , 6.23957443, 6.23823452,\n",
       "       6.23590946, 6.232617  , 6.22839355, 6.22329   , 6.21737051,\n",
       "       6.210709  , 6.203388  , 6.19549561, 6.187123  , 6.17836142,\n",
       "       6.16930246, 6.160031  , 6.150627  , 6.14115953, 6.131687  ,\n",
       "       6.122254  , 6.112889  , 6.103606  , 6.09440041, 6.085254  ,\n",
       "       6.076131  , 6.066982  , 6.057761  , 6.04842138, 6.038903  ,\n",
       "       6.02913952, 6.019057  , 6.008578  , 5.997622  , 5.98611   ,\n",
       "       5.97396755, 5.96112537, 5.9475255 , 5.9331255 , 5.91790152,\n",
       "       5.901855  , 5.885015  , 5.86744   , 5.849217  , 5.83045244,\n",
       "       5.81126738, 5.791787  , 5.772135  , 5.75242853, 5.732765  ,\n",
       "       5.71323061, 5.69390249, 5.67485142, 5.65614557, 5.637838  ,\n",
       "       5.619961  , 5.602534  , 5.58557653, 5.569084  , 5.553059  ,\n",
       "       5.537511  , 5.522455  , 5.50790453, 5.49386454, 5.48034143,\n",
       "       5.46733856, 5.454845  , 5.442838  , 5.431291  , 5.420172  ,\n",
       "       5.40945148, 5.399091  , 5.38905   , 5.379276  , 5.36970949,\n",
       "       5.36029243, 5.35097361, 5.341696  , 5.33240938, 5.32308054,\n",
       "       5.31369   , 5.304222  , 5.294664  , 5.285001  , 5.275233  ,\n",
       "       5.265363  , 5.25539446, 5.24533367, 5.23518467, 5.224948  ,\n",
       "       5.214622  , 5.204211  , 5.193731  , 5.18319654, 5.17261362,\n",
       "       5.161983  , 5.151313  , 5.14061546, 5.129905  , 5.119209  ,\n",
       "       5.10856152, 5.09799   , 5.087525  , 5.077202  , 5.06705856,\n",
       "       5.057126  , 5.04743242, 5.038008  , 5.02887869, 5.020076  ,\n",
       "       5.011637  , 5.00365448, 4.99671678, 4.98701674, 4.97673448,\n",
       "       4.96601116, 4.95504008, 4.94404698, 4.93326858, 4.92292514,\n",
       "       4.91319432, 4.90419172, 4.89596057, 4.88847076, 4.8816233 ,\n",
       "       4.8752619 , 4.86919227, 4.86320598, 4.85710694, 4.85072828,\n",
       "       4.84393659, 4.8366309 , 4.82874286, 4.82024401, 4.81115812,\n",
       "       4.80156981, 4.79162212, 4.78149953, 4.77139952, 4.76150271,\n",
       "       4.75194886, 4.74282486, 4.73416722, 4.72597325, 4.71821229,\n",
       "       4.71083516, 4.70378083, 4.69697984, 4.69035628, 4.68383154,\n",
       "       4.67732847, 4.67077459, 4.66410735, 4.65728006, 4.65026676,\n",
       "       4.6430658 , 4.63569751, 4.62819246, 4.62057402, 4.61283899,\n",
       "       4.60494037, 4.59678453, 4.58824423, 4.57918286, 4.56948833,\n",
       "       4.55910735, 4.54807232, 4.53651838, 4.52468242, 4.512876  ,\n",
       "       4.50143508, 4.49065824, 4.48075633, 4.47193768, 4.46405021,\n",
       "       4.45707995, 4.4509263 , 4.44547893, 4.44063303, 4.43629857,\n",
       "       4.43239754, 4.42886211, 4.4256282 , 4.42261683, 4.41975137,\n",
       "       4.41696203, 4.41419134, 4.41141546, 4.40861893, 4.40578631,\n",
       "       4.40289909, 4.39992582, 4.39683452, 4.39359704, 4.39018908,\n",
       "       4.38659033, 4.38278442, 4.37875969, 4.37451096, 4.37004229,\n",
       "       4.36536625, 4.36050266, 4.355476  , 4.35031208, 4.34503595,\n",
       "       4.33967048, 4.3342359 , 4.32875034, 4.32323037, 4.31769182,\n",
       "       4.31215069, 4.30662373, 4.30112747, 4.29567631, 4.29027911,\n",
       "       4.28493487, 4.2796329 , 4.27435433, 4.26907624, 4.26377937,\n",
       "       4.25844788, 4.25307011, 4.24763746, 4.2421401 , 4.23656965,\n",
       "       4.23092022, 4.22518952, 4.21938111, 4.21350294])"
      ]
     },
     "execution_count": 26,
     "metadata": {},
     "output_type": "execute_result"
    }
   ],
   "source": [
    "rates = data[\"Rate\"].to_numpy()\n",
    "rates"
   ]
  },
  {
   "cell_type": "code",
   "execution_count": 31,
   "metadata": {},
   "outputs": [
    {
     "data": {
      "text/plain": [
       "'cpu'"
      ]
     },
     "execution_count": 31,
     "metadata": {},
     "output_type": "execute_result"
    }
   ],
   "source": [
    "device = \"cuda\" if torch.cuda.is_available() else \"cpu\"\n",
    "device"
   ]
  },
  {
   "cell_type": "code",
   "execution_count": null,
   "metadata": {},
   "outputs": [
    {
     "data": {
      "text/plain": [
       "(344, 68, 70)"
      ]
     },
     "execution_count": 27,
     "metadata": {},
     "output_type": "execute_result"
    }
   ],
   "source": [
    "cut_batch = int(len(rates) * .6)\n",
    "end_batch = int(len(rates) * .2)\n",
    "\n",
    "X_train = torch.from_numpy(rates).to(device)\n",
    "X_eval = data[cut_batch:(cut_batch+ end_batch)]\n",
    "X_test = data[(cut_batch+ end_batch):]\n",
    "\n",
    "len(X_train), len(X_eval), len(X_test)"
   ]
  },
  {
   "cell_type": "code",
   "execution_count": null,
   "metadata": {},
   "outputs": [],
   "source": []
  },
  {
   "cell_type": "code",
   "execution_count": 10,
   "metadata": {},
   "outputs": [],
   "source": [
    "import torch.nn as nn\n",
    "class LinearRegressionModel(nn.Module):\n",
    "    def __init__(self):\n",
    "        super().__init__()\n",
    "        self.linear_layer = nn.Linear(in_features=1, out_features=1)\n",
    "\n",
    "    def forward(self,x: torch.Tensor) -> torch.Tensor:\n",
    "        return self.linear_layer(x)"
   ]
  },
  {
   "cell_type": "code",
   "execution_count": null,
   "metadata": {},
   "outputs": [],
   "source": [
    "model0 = LinearRegressionModel()\n",
    "\n",
    "loss_fn = nn.L1Loss()\n",
    "\n",
    "optimizer = torch.optim.SGD(model0.parameters(), lr=.01)"
   ]
  },
  {
   "cell_type": "code",
   "execution_count": null,
   "metadata": {},
   "outputs": [],
   "source": [
    "def noLossFr():\n",
    "    model0.train()\n",
    "    x_pred = model0.forward(X_train)\n",
    "    loss = loss_fn()\n"
   ]
  }
 ],
 "metadata": {
  "kernelspec": {
   "display_name": "Python 3",
   "language": "python",
   "name": "python3"
  },
  "language_info": {
   "codemirror_mode": {
    "name": "ipython",
    "version": 3
   },
   "file_extension": ".py",
   "mimetype": "text/x-python",
   "name": "python",
   "nbconvert_exporter": "python",
   "pygments_lexer": "ipython3",
   "version": "3.12.7"
  }
 },
 "nbformat": 4,
 "nbformat_minor": 2
}
